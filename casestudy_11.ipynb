{
  "nbformat": 4,
  "nbformat_minor": 0,
  "metadata": {
    "colab": {
      "name": "casestudy_11.ipynb",
      "provenance": [],
      "collapsed_sections": []
    },
    "kernelspec": {
      "name": "python3",
      "display_name": "Python 3"
    },
    "language_info": {
      "name": "python"
    }
  },
  "cells": [
    {
      "cell_type": "code",
      "execution_count": 40,
      "metadata": {
        "id": "2pZE90dvFU--"
      },
      "outputs": [],
      "source": [
        "import pandas as pd\n",
        "import numpy as np\n",
        "import matplotlib.pyplot as plt\n",
        "import seaborn as sns"
      ]
    },
    {
      "cell_type": "code",
      "source": [
        "data=pd.read_csv(\"/content/Add_sales_data_2018.csv\")\n",
        "data"
      ],
      "metadata": {
        "colab": {
          "base_uri": "https://localhost:8080/",
          "height": 424
        },
        "id": "y05vcVbkFyBq",
        "outputId": "1e04e12b-8ea1-4a2a-83a6-bc20c5b8cb4f"
      },
      "execution_count": 42,
      "outputs": [
        {
          "output_type": "execute_result",
          "data": {
            "text/plain": [
              "           Date  Add1(in Thousands)  Add2(in Thousands)  Add3(in Thousands)  \\\n",
              "0    2018-10-08              208.00              222.25              206.85   \n",
              "1    2018-10-05              217.00              218.60              205.90   \n",
              "2    2018-10-04              223.50              227.80              216.15   \n",
              "3    2018-10-03              230.00              237.50              225.75   \n",
              "4    2018-10-01              234.55              234.60              221.05   \n",
              "..          ...                 ...                 ...                 ...   \n",
              "200  2017-12-14              288.00              288.25              279.20   \n",
              "201  2017-12-13              290.00              292.50              282.20   \n",
              "202  2017-12-12              298.60              298.60              286.65   \n",
              "203  2017-12-11              290.00              299.55              285.90   \n",
              "204  2017-12-08              287.55              289.90              285.05   \n",
              "\n",
              "     Add4(in Thousands)  Add5(in Thousands)  Profit(in Thousands)  \n",
              "0                216.00              215.15              4093.065  \n",
              "1                210.25              209.20              4042.448  \n",
              "2                217.25              218.20              4213.819  \n",
              "3                226.45              227.60              4391.665  \n",
              "4                230.30              230.90              4350.683  \n",
              "..                  ...                 ...                   ...  \n",
              "200              284.50              284.30              5374.105  \n",
              "201              284.80              284.45              5439.655  \n",
              "202              287.45              287.80              5545.013  \n",
              "203              297.85              298.35              5565.444  \n",
              "204              288.05              288.45              5421.842  \n",
              "\n",
              "[205 rows x 7 columns]"
            ],
            "text/html": [
              "\n",
              "  <div id=\"df-1b09c56e-9387-4e65-940e-1af49040a6de\">\n",
              "    <div class=\"colab-df-container\">\n",
              "      <div>\n",
              "<style scoped>\n",
              "    .dataframe tbody tr th:only-of-type {\n",
              "        vertical-align: middle;\n",
              "    }\n",
              "\n",
              "    .dataframe tbody tr th {\n",
              "        vertical-align: top;\n",
              "    }\n",
              "\n",
              "    .dataframe thead th {\n",
              "        text-align: right;\n",
              "    }\n",
              "</style>\n",
              "<table border=\"1\" class=\"dataframe\">\n",
              "  <thead>\n",
              "    <tr style=\"text-align: right;\">\n",
              "      <th></th>\n",
              "      <th>Date</th>\n",
              "      <th>Add1(in Thousands)</th>\n",
              "      <th>Add2(in Thousands)</th>\n",
              "      <th>Add3(in Thousands)</th>\n",
              "      <th>Add4(in Thousands)</th>\n",
              "      <th>Add5(in Thousands)</th>\n",
              "      <th>Profit(in Thousands)</th>\n",
              "    </tr>\n",
              "  </thead>\n",
              "  <tbody>\n",
              "    <tr>\n",
              "      <th>0</th>\n",
              "      <td>2018-10-08</td>\n",
              "      <td>208.00</td>\n",
              "      <td>222.25</td>\n",
              "      <td>206.85</td>\n",
              "      <td>216.00</td>\n",
              "      <td>215.15</td>\n",
              "      <td>4093.065</td>\n",
              "    </tr>\n",
              "    <tr>\n",
              "      <th>1</th>\n",
              "      <td>2018-10-05</td>\n",
              "      <td>217.00</td>\n",
              "      <td>218.60</td>\n",
              "      <td>205.90</td>\n",
              "      <td>210.25</td>\n",
              "      <td>209.20</td>\n",
              "      <td>4042.448</td>\n",
              "    </tr>\n",
              "    <tr>\n",
              "      <th>2</th>\n",
              "      <td>2018-10-04</td>\n",
              "      <td>223.50</td>\n",
              "      <td>227.80</td>\n",
              "      <td>216.15</td>\n",
              "      <td>217.25</td>\n",
              "      <td>218.20</td>\n",
              "      <td>4213.819</td>\n",
              "    </tr>\n",
              "    <tr>\n",
              "      <th>3</th>\n",
              "      <td>2018-10-03</td>\n",
              "      <td>230.00</td>\n",
              "      <td>237.50</td>\n",
              "      <td>225.75</td>\n",
              "      <td>226.45</td>\n",
              "      <td>227.60</td>\n",
              "      <td>4391.665</td>\n",
              "    </tr>\n",
              "    <tr>\n",
              "      <th>4</th>\n",
              "      <td>2018-10-01</td>\n",
              "      <td>234.55</td>\n",
              "      <td>234.60</td>\n",
              "      <td>221.05</td>\n",
              "      <td>230.30</td>\n",
              "      <td>230.90</td>\n",
              "      <td>4350.683</td>\n",
              "    </tr>\n",
              "    <tr>\n",
              "      <th>...</th>\n",
              "      <td>...</td>\n",
              "      <td>...</td>\n",
              "      <td>...</td>\n",
              "      <td>...</td>\n",
              "      <td>...</td>\n",
              "      <td>...</td>\n",
              "      <td>...</td>\n",
              "    </tr>\n",
              "    <tr>\n",
              "      <th>200</th>\n",
              "      <td>2017-12-14</td>\n",
              "      <td>288.00</td>\n",
              "      <td>288.25</td>\n",
              "      <td>279.20</td>\n",
              "      <td>284.50</td>\n",
              "      <td>284.30</td>\n",
              "      <td>5374.105</td>\n",
              "    </tr>\n",
              "    <tr>\n",
              "      <th>201</th>\n",
              "      <td>2017-12-13</td>\n",
              "      <td>290.00</td>\n",
              "      <td>292.50</td>\n",
              "      <td>282.20</td>\n",
              "      <td>284.80</td>\n",
              "      <td>284.45</td>\n",
              "      <td>5439.655</td>\n",
              "    </tr>\n",
              "    <tr>\n",
              "      <th>202</th>\n",
              "      <td>2017-12-12</td>\n",
              "      <td>298.60</td>\n",
              "      <td>298.60</td>\n",
              "      <td>286.65</td>\n",
              "      <td>287.45</td>\n",
              "      <td>287.80</td>\n",
              "      <td>5545.013</td>\n",
              "    </tr>\n",
              "    <tr>\n",
              "      <th>203</th>\n",
              "      <td>2017-12-11</td>\n",
              "      <td>290.00</td>\n",
              "      <td>299.55</td>\n",
              "      <td>285.90</td>\n",
              "      <td>297.85</td>\n",
              "      <td>298.35</td>\n",
              "      <td>5565.444</td>\n",
              "    </tr>\n",
              "    <tr>\n",
              "      <th>204</th>\n",
              "      <td>2017-12-08</td>\n",
              "      <td>287.55</td>\n",
              "      <td>289.90</td>\n",
              "      <td>285.05</td>\n",
              "      <td>288.05</td>\n",
              "      <td>288.45</td>\n",
              "      <td>5421.842</td>\n",
              "    </tr>\n",
              "  </tbody>\n",
              "</table>\n",
              "<p>205 rows × 7 columns</p>\n",
              "</div>\n",
              "      <button class=\"colab-df-convert\" onclick=\"convertToInteractive('df-1b09c56e-9387-4e65-940e-1af49040a6de')\"\n",
              "              title=\"Convert this dataframe to an interactive table.\"\n",
              "              style=\"display:none;\">\n",
              "        \n",
              "  <svg xmlns=\"http://www.w3.org/2000/svg\" height=\"24px\"viewBox=\"0 0 24 24\"\n",
              "       width=\"24px\">\n",
              "    <path d=\"M0 0h24v24H0V0z\" fill=\"none\"/>\n",
              "    <path d=\"M18.56 5.44l.94 2.06.94-2.06 2.06-.94-2.06-.94-.94-2.06-.94 2.06-2.06.94zm-11 1L8.5 8.5l.94-2.06 2.06-.94-2.06-.94L8.5 2.5l-.94 2.06-2.06.94zm10 10l.94 2.06.94-2.06 2.06-.94-2.06-.94-.94-2.06-.94 2.06-2.06.94z\"/><path d=\"M17.41 7.96l-1.37-1.37c-.4-.4-.92-.59-1.43-.59-.52 0-1.04.2-1.43.59L10.3 9.45l-7.72 7.72c-.78.78-.78 2.05 0 2.83L4 21.41c.39.39.9.59 1.41.59.51 0 1.02-.2 1.41-.59l7.78-7.78 2.81-2.81c.8-.78.8-2.07 0-2.86zM5.41 20L4 18.59l7.72-7.72 1.47 1.35L5.41 20z\"/>\n",
              "  </svg>\n",
              "      </button>\n",
              "      \n",
              "  <style>\n",
              "    .colab-df-container {\n",
              "      display:flex;\n",
              "      flex-wrap:wrap;\n",
              "      gap: 12px;\n",
              "    }\n",
              "\n",
              "    .colab-df-convert {\n",
              "      background-color: #E8F0FE;\n",
              "      border: none;\n",
              "      border-radius: 50%;\n",
              "      cursor: pointer;\n",
              "      display: none;\n",
              "      fill: #1967D2;\n",
              "      height: 32px;\n",
              "      padding: 0 0 0 0;\n",
              "      width: 32px;\n",
              "    }\n",
              "\n",
              "    .colab-df-convert:hover {\n",
              "      background-color: #E2EBFA;\n",
              "      box-shadow: 0px 1px 2px rgba(60, 64, 67, 0.3), 0px 1px 3px 1px rgba(60, 64, 67, 0.15);\n",
              "      fill: #174EA6;\n",
              "    }\n",
              "\n",
              "    [theme=dark] .colab-df-convert {\n",
              "      background-color: #3B4455;\n",
              "      fill: #D2E3FC;\n",
              "    }\n",
              "\n",
              "    [theme=dark] .colab-df-convert:hover {\n",
              "      background-color: #434B5C;\n",
              "      box-shadow: 0px 1px 3px 1px rgba(0, 0, 0, 0.15);\n",
              "      filter: drop-shadow(0px 1px 2px rgba(0, 0, 0, 0.3));\n",
              "      fill: #FFFFFF;\n",
              "    }\n",
              "  </style>\n",
              "\n",
              "      <script>\n",
              "        const buttonEl =\n",
              "          document.querySelector('#df-1b09c56e-9387-4e65-940e-1af49040a6de button.colab-df-convert');\n",
              "        buttonEl.style.display =\n",
              "          google.colab.kernel.accessAllowed ? 'block' : 'none';\n",
              "\n",
              "        async function convertToInteractive(key) {\n",
              "          const element = document.querySelector('#df-1b09c56e-9387-4e65-940e-1af49040a6de');\n",
              "          const dataTable =\n",
              "            await google.colab.kernel.invokeFunction('convertToInteractive',\n",
              "                                                     [key], {});\n",
              "          if (!dataTable) return;\n",
              "\n",
              "          const docLinkHtml = 'Like what you see? Visit the ' +\n",
              "            '<a target=\"_blank\" href=https://colab.research.google.com/notebooks/data_table.ipynb>data table notebook</a>'\n",
              "            + ' to learn more about interactive tables.';\n",
              "          element.innerHTML = '';\n",
              "          dataTable['output_type'] = 'display_data';\n",
              "          await google.colab.output.renderOutput(dataTable, element);\n",
              "          const docLink = document.createElement('div');\n",
              "          docLink.innerHTML = docLinkHtml;\n",
              "          element.appendChild(docLink);\n",
              "        }\n",
              "      </script>\n",
              "    </div>\n",
              "  </div>\n",
              "  "
            ]
          },
          "metadata": {},
          "execution_count": 42
        }
      ]
    },
    {
      "cell_type": "code",
      "source": [
        "data.isnull().sum()"
      ],
      "metadata": {
        "colab": {
          "base_uri": "https://localhost:8080/"
        },
        "id": "YV11DswKHTJA",
        "outputId": "aa1a600a-0186-403f-c2f8-b352cdc8d09c"
      },
      "execution_count": 43,
      "outputs": [
        {
          "output_type": "execute_result",
          "data": {
            "text/plain": [
              "Date                    0\n",
              "Add1(in Thousands)      0\n",
              "Add2(in Thousands)      0\n",
              "Add3(in Thousands)      0\n",
              "Add4(in Thousands)      0\n",
              "Add5(in Thousands)      0\n",
              "Profit(in Thousands)    0\n",
              "dtype: int64"
            ]
          },
          "metadata": {},
          "execution_count": 43
        }
      ]
    },
    {
      "cell_type": "code",
      "source": [
        "#First of all, check whether there is any relationship between the amount spent for advertising through five different companies and profit generated.\n",
        "data.corr()\n",
        "plt.figure(figsize=(8,8))\n",
        "sns.heatmap(data.corr(),annot=True,linewidth=0.2)"
      ],
      "metadata": {
        "colab": {
          "base_uri": "https://localhost:8080/",
          "height": 594
        },
        "id": "KnPfJlyrHTu6",
        "outputId": "29fa695e-4889-44dc-ef65-c245c3a2c2bc"
      },
      "execution_count": 44,
      "outputs": [
        {
          "output_type": "execute_result",
          "data": {
            "text/plain": [
              "<matplotlib.axes._subplots.AxesSubplot at 0x7faedb617150>"
            ]
          },
          "metadata": {},
          "execution_count": 44
        },
        {
          "output_type": "display_data",
          "data": {
            "text/plain": [
              "<Figure size 576x576 with 2 Axes>"
            ],
            "image/png": "[encoded data removed]"
          },
          "metadata": {
            "needs_background": "light"
          }
        }
      ]
    },
    {
      "cell_type": "markdown",
      "source": [
        "positive correlation between between the amount spent for advertising through five different companies and profit generated"
      ],
      "metadata": {
        "id": "KI1W7ykeO-Os"
      }
    },
    {
      "cell_type": "code",
      "source": [
        "#2.Build a regression model to predict the profit from the given data and comment your findings on it.\n",
        "data.columns"
      ],
      "metadata": {
        "colab": {
          "base_uri": "https://localhost:8080/"
        },
        "id": "VlH-xEz6Jn1E",
        "outputId": "387b752c-1a3e-4a8d-e34e-4fd9d7897e90"
      },
      "execution_count": 48,
      "outputs": [
        {
          "output_type": "execute_result",
          "data": {
            "text/plain": [
              "Index(['Date', 'Add1(in Thousands)', 'Add2(in Thousands)',\n",
              "       'Add3(in Thousands)', 'Add4(in Thousands)', 'Add5(in Thousands)',\n",
              "       'Profit(in Thousands)'],\n",
              "      dtype='object')"
            ]
          },
          "metadata": {},
          "execution_count": 48
        }
      ]
    },
    {
      "cell_type": "markdown",
      "source": [
        "here the column date should be dropped."
      ],
      "metadata": {
        "id": "pzLqB9S4JvUT"
      }
    },
    {
      "cell_type": "code",
      "source": [
        "y=data['Profit(in Thousands)']\n",
        "x=data.drop(['Profit(in Thousands)','Date'],axis=1)\n",
        "from sklearn.model_selection import train_test_split\n",
        "x_train,x_test,y_train,y_test=train_test_split(x,y)\n",
        "from sklearn import linear_model\n",
        "lr=linear_model.LinearRegression()\n",
        "model=lr.fit(x_train,y_train)\n",
        "predictions=model.predict(x_test)\n",
        "print(y_test)\n",
        "print(predictions)"
      ],
      "metadata": {
        "colab": {
          "base_uri": "https://localhost:8080/"
        },
        "id": "Vm9mSOywJnqS",
        "outputId": "7301fb27-67a6-48e2-9b14-86911b2cd66b"
      },
      "execution_count": 49,
      "outputs": [
        {
          "output_type": "stream",
          "name": "stdout",
          "text": [
            "153    5019.997\n",
            "190    5917.925\n",
            "33     4513.600\n",
            "123    5238.366\n",
            "130    4922.845\n",
            "104    5518.561\n",
            "147    5175.051\n",
            "143    5134.657\n",
            "60     5145.131\n",
            "175    5784.540\n",
            "105    5511.420\n",
            "107    5452.280\n",
            "116    5395.217\n",
            "1      4042.448\n",
            "88     4937.030\n",
            "110    5511.087\n",
            "167    5465.277\n",
            "57     5071.736\n",
            "162    5328.025\n",
            "157    5263.935\n",
            "169    5730.999\n",
            "100    5131.898\n",
            "45     4606.340\n",
            "14     4379.901\n",
            "17     4326.782\n",
            "91     4836.837\n",
            "166    5245.140\n",
            "150    5216.436\n",
            "37     4480.363\n",
            "67     5001.615\n",
            "201    5439.655\n",
            "63     5250.775\n",
            "179    6137.800\n",
            "127    5188.139\n",
            "158    5312.740\n",
            "4      4350.683\n",
            "164    4997.719\n",
            "109    5577.150\n",
            "5      4404.686\n",
            "7      4470.775\n",
            "25     4436.321\n",
            "196    5676.934\n",
            "184    5962.336\n",
            "119    5227.886\n",
            "204    5421.842\n",
            "177    5910.980\n",
            "138    5247.011\n",
            "18     4190.965\n",
            "198    5435.316\n",
            "137    5051.755\n",
            "145    5108.626\n",
            "49     4643.716\n",
            "Name: Profit(in Thousands), dtype: float64\n",
            "[5019.997 5917.925 4513.6   5238.366 4922.845 5518.561 5175.051 5134.657\n",
            " 5145.131 5784.54  5511.42  5452.28  5395.217 4042.448 4937.03  5511.087\n",
            " 5465.277 5071.736 5328.025 5263.935 5730.999 5131.898 4606.34  4379.901\n",
            " 4326.782 4836.837 5245.14  5216.436 4480.363 5001.615 5439.655 5250.775\n",
            " 6137.8   5188.139 5312.74  4350.683 4997.719 5577.15  4404.686 4470.775\n",
            " 4436.321 5676.934 5962.336 5227.886 5421.842 5910.98  5247.011 4190.965\n",
            " 5435.316 5051.755 5108.626 4643.716]\n"
          ]
        }
      ]
    },
    {
      "cell_type": "code",
      "source": [
        "from sklearn.metrics import mean_squared_error\n",
        "print('MSE =',mean_squared_error(y_test,predictions))"
      ],
      "metadata": {
        "colab": {
          "base_uri": "https://localhost:8080/"
        },
        "id": "ibLrQztXLD76",
        "outputId": "8b0c1aac-4eab-4fc3-d5ce-ee2f734309e1"
      },
      "execution_count": 50,
      "outputs": [
        {
          "output_type": "stream",
          "name": "stdout",
          "text": [
            "MSE = 3.9768298680434024e-25\n"
          ]
        }
      ]
    },
    {
      "cell_type": "code",
      "source": [
        "#3. Predict the profit generated by the company, if they wish to spend the following amount for advertisement.\n",
        "input=[[290,312,309,298,320]]\n",
        "result=model.predict(input)\n",
        "print(result)"
      ],
      "metadata": {
        "colab": {
          "base_uri": "https://localhost:8080/"
        },
        "id": "2xgiRhgKNXCt",
        "outputId": "fe6996f2-ca6c-4830-afe2-9f371e248458"
      },
      "execution_count": 51,
      "outputs": [
        {
          "output_type": "stream",
          "name": "stdout",
          "text": [
            "[5820.06]\n"
          ]
        },
        {
          "output_type": "stream",
          "name": "stderr",
          "text": [
            "/usr/local/lib/python3.7/dist-packages/sklearn/base.py:451: UserWarning: X does not have valid feature names, but LinearRegression was fitted with feature names\n",
            "  \"X does not have valid feature names, but\"\n"
          ]
        }
      ]
    }
  ]
}