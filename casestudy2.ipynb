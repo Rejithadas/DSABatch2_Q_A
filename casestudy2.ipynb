{
  "nbformat": 4,
  "nbformat_minor": 0,
  "metadata": {
    "colab": {
      "name": "casestudy2.ipynb",
      "provenance": [],
      "collapsed_sections": []
    },
    "kernelspec": {
      "name": "python3",
      "display_name": "Python 3"
    },
    "language_info": {
      "name": "python"
    }
  },
  "cells": [
    {
      "cell_type": "code",
      "execution_count": 48,
      "metadata": {
        "id": "AQ0ug1cPuEZB"
      },
      "outputs": [],
      "source": [
        "import pandas as pd\n",
        "import numpy as np\n",
        "import matplotlib.pyplot as plt\n",
        "import seaborn as sns\n"
      ]
    },
    {
      "cell_type": "code",
      "source": [
        "df=pd.read_csv('/content/StudentsPerformance.csv')\n",
        "print(df)"
      ],
      "metadata": {
        "colab": {
          "base_uri": "https://localhost:8080/"
        },
        "id": "GyuUqh1vuL0n",
        "outputId": "a4f62428-d98f-437f-85c2-03a64f74fe7d"
      },
      "execution_count": 49,
      "outputs": [
        {
          "output_type": "stream",
          "name": "stdout",
          "text": [
            "     gender race/ethnicity parental level of education         lunch  \\\n",
            "0    female        group C            some high school  free/reduced   \n",
            "1    female        group B                 high school  free/reduced   \n",
            "2    female        group B            some high school  free/reduced   \n",
            "3    female        group B                some college      standard   \n",
            "4    female        group C                some college  free/reduced   \n",
            "..      ...            ...                         ...           ...   \n",
            "995    male        group E                some college      standard   \n",
            "996    male        group A                some college      standard   \n",
            "997    male        group D                some college      standard   \n",
            "998    male        group E          associate's degree  free/reduced   \n",
            "999    male        group E           bachelor's degree      standard   \n",
            "\n",
            "    test preparation course  math score  reading score  writing score  \n",
            "0                      none           0             17             10  \n",
            "1                      none           8             24             23  \n",
            "2                      none          18             32             28  \n",
            "3                      none          11             38             32  \n",
            "4                      none          22             39             33  \n",
            "..                      ...         ...            ...            ...  \n",
            "995               completed          99             87             81  \n",
            "996               completed         100             96             86  \n",
            "997               completed         100             97             99  \n",
            "998               completed         100            100             93  \n",
            "999               completed         100            100            100  \n",
            "\n",
            "[1000 rows x 8 columns]\n"
          ]
        }
      ]
    },
    {
      "cell_type": "code",
      "source": [
        "#Find out how many males and females participated in the test.\n",
        "d1 = df.groupby([\"gender\"]).size()\n",
        "print(d1)"
      ],
      "metadata": {
        "colab": {
          "base_uri": "https://localhost:8080/"
        },
        "id": "SViNz5_6vHQ4",
        "outputId": "077e4073-49c4-4f34-c909-37fb40cf83ff"
      },
      "execution_count": 50,
      "outputs": [
        {
          "output_type": "stream",
          "name": "stdout",
          "text": [
            "gender\n",
            "female    518\n",
            "male      482\n",
            "dtype: int64\n"
          ]
        }
      ]
    },
    {
      "cell_type": "code",
      "source": [
        "#What do you think about the students' parental level of education?\n",
        "d1 = df.groupby([\"parental level of education\"]).size()\n",
        "print(d1)"
      ],
      "metadata": {
        "colab": {
          "base_uri": "https://localhost:8080/"
        },
        "id": "XSC5upoZvIMQ",
        "outputId": "dd3259b5-a999-4e98-eca7-782b50a04419"
      },
      "execution_count": 51,
      "outputs": [
        {
          "output_type": "stream",
          "name": "stdout",
          "text": [
            "parental level of education\n",
            "associate's degree    222\n",
            "bachelor's degree     118\n",
            "high school           196\n",
            "master's degree        59\n",
            "some college          226\n",
            "some high school      179\n",
            "dtype: int64\n"
          ]
        }
      ]
    },
    {
      "cell_type": "markdown",
      "source": [
        "The dataset contains 6 types of parental level education.\n",
        "master's degree is the least numbered parental level education and some colleges is the hisghest numbered parental level education."
      ],
      "metadata": {
        "id": "-_8OvIqf08is"
      }
    },
    {
      "cell_type": "code",
      "source": [
        "#Who scores the most on average for math, reading and writing based on: Gender \n",
        "d2=df.groupby('gender')[['math score','reading score','writing score']].mean()\n",
        "print(d2)"
      ],
      "metadata": {
        "colab": {
          "base_uri": "https://localhost:8080/"
        },
        "id": "59WKND4JvNeI",
        "outputId": "5b4a90c5-d838-4ea7-c933-a690f9f6793a"
      },
      "execution_count": 52,
      "outputs": [
        {
          "output_type": "stream",
          "name": "stdout",
          "text": [
            "        math score  reading score  writing score\n",
            "gender                                          \n",
            "female   63.376448      72.590734      72.467181\n",
            "male     68.821577      65.545643      63.446058\n"
          ]
        }
      ]
    },
    {
      "cell_type": "markdown",
      "source": [
        "female students score more in reaading and writing whereas male students score more in math "
      ],
      "metadata": {
        "id": "ojlIVOrC45Kc"
      }
    },
    {
      "cell_type": "code",
      "source": [
        "#Test preparation course\n",
        "d3=df.groupby('test preparation course')[['math score','reading score','writing score']].mean()\n",
        "print(d3)"
      ],
      "metadata": {
        "colab": {
          "base_uri": "https://localhost:8080/"
        },
        "id": "QG0bvDgu4L4s",
        "outputId": "ca6d2a91-2e5f-4cd6-962b-a3de8f732ea0"
      },
      "execution_count": 53,
      "outputs": [
        {
          "output_type": "stream",
          "name": "stdout",
          "text": [
            "                         math score  reading score  writing score\n",
            "test preparation course                                          \n",
            "completed                  69.96648      74.175978      74.684358\n",
            "none                       63.78972      66.417445      64.457944\n"
          ]
        }
      ]
    },
    {
      "cell_type": "markdown",
      "source": [
        "the scores most on average for math, reading and writing based on test preparation is more for completed than none"
      ],
      "metadata": {
        "id": "J6bnYPDl-ciD"
      }
    },
    {
      "cell_type": "code",
      "source": [
        "#What do you think about the scoring variation for math, reading and writing based on : Test preparation course\n",
        "d4=df.groupby('test preparation course')[['math score','reading score','writing score']].std()\n",
        "print(d4)"
      ],
      "metadata": {
        "colab": {
          "base_uri": "https://localhost:8080/"
        },
        "id": "PV2W_y5svSJh",
        "outputId": "9f67ca4d-e3d8-4d3d-a35e-1064c375ab3d"
      },
      "execution_count": 54,
      "outputs": [
        {
          "output_type": "stream",
          "name": "stdout",
          "text": [
            "                         math score  reading score  writing score\n",
            "test preparation course                                          \n",
            "completed                 14.521847      13.537572      13.236412\n",
            "none                      15.705689      14.608896      15.041667\n"
          ]
        }
      ]
    },
    {
      "cell_type": "markdown",
      "source": [
        "scoring variation for math, reading and writing based on Test preparation course non is more than completed"
      ],
      "metadata": {
        "id": "z04uLhOp9izl"
      }
    },
    {
      "cell_type": "code",
      "source": [
        "#Gender\n",
        "d5=df.groupby('gender')[['math score','reading score','writing score']].std()\n",
        "print(d5)"
      ],
      "metadata": {
        "colab": {
          "base_uri": "https://localhost:8080/"
        },
        "id": "mGV5E6D-5XmV",
        "outputId": "92aca066-b513-448c-e49f-3ac77342722a"
      },
      "execution_count": 55,
      "outputs": [
        {
          "output_type": "stream",
          "name": "stdout",
          "text": [
            "        math score  reading score  writing score\n",
            "gender                                          \n",
            "female   16.029928      14.411018      14.844842\n",
            "male     14.556411      14.149594      14.227225\n"
          ]
        }
      ]
    },
    {
      "cell_type": "markdown",
      "source": [
        "scoring variation for math, reading and writing based on gender female student is more than male students"
      ],
      "metadata": {
        "id": "VTP6KGRc-BsX"
      }
    },
    {
      "cell_type": "code",
      "source": [
        "#The management needs your help to give bonus points to the top 25% of students based on their maths score, so how will you help the management to achieve this.\n",
        "d6=df.sort_values(by=['math score'],ascending=False)\n",
        "print(d6)\n",
        "# bonus points to the top 25% of students \n",
        "n=(25/100)*1000\n",
        "print(d6.head(int(n)))"
      ],
      "metadata": {
        "colab": {
          "base_uri": "https://localhost:8080/"
        },
        "id": "Sgu_x1_XvgGp",
        "outputId": "3c4db0a8-a2d1-453b-88c6-55303f1683aa"
      },
      "execution_count": 56,
      "outputs": [
        {
          "output_type": "stream",
          "name": "stdout",
          "text": [
            "     gender race/ethnicity parental level of education         lunch  \\\n",
            "999    male        group E           bachelor's degree      standard   \n",
            "996    male        group A                some college      standard   \n",
            "515  female        group E                some college      standard   \n",
            "517  female        group E          associate's degree      standard   \n",
            "516  female        group E           bachelor's degree      standard   \n",
            "..      ...            ...                         ...           ...   \n",
            "2    female        group B            some high school  free/reduced   \n",
            "51   female        group C            some high school  free/reduced   \n",
            "3    female        group B                some college      standard   \n",
            "1    female        group B                 high school  free/reduced   \n",
            "0    female        group C            some high school  free/reduced   \n",
            "\n",
            "    test preparation course  math score  reading score  writing score  \n",
            "999               completed         100            100            100  \n",
            "996               completed         100             96             86  \n",
            "515                    none         100             92             97  \n",
            "517                    none         100            100            100  \n",
            "516                    none         100            100            100  \n",
            "..                      ...         ...            ...            ...  \n",
            "2                      none          18             32             28  \n",
            "51                     none          13             41             51  \n",
            "3                      none          11             38             32  \n",
            "1                      none           8             24             23  \n",
            "0                      none           0             17             10  \n",
            "\n",
            "[1000 rows x 8 columns]\n",
            "     gender race/ethnicity parental level of education         lunch  \\\n",
            "999    male        group E           bachelor's degree      standard   \n",
            "996    male        group A                some college      standard   \n",
            "515  female        group E                some college      standard   \n",
            "517  female        group E          associate's degree      standard   \n",
            "516  female        group E           bachelor's degree      standard   \n",
            "..      ...            ...                         ...           ...   \n",
            "856    male        group E            some high school      standard   \n",
            "855    male        group E          associate's degree  free/reduced   \n",
            "854    male        group D            some high school      standard   \n",
            "853    male        group D          associate's degree  free/reduced   \n",
            "852    male        group D                some college  free/reduced   \n",
            "\n",
            "    test preparation course  math score  reading score  writing score  \n",
            "999               completed         100            100            100  \n",
            "996               completed         100             96             86  \n",
            "515                    none         100             92             97  \n",
            "517                    none         100            100            100  \n",
            "516                    none         100            100            100  \n",
            "..                      ...         ...            ...            ...  \n",
            "856               completed          77             76             77  \n",
            "855               completed          77             69             68  \n",
            "854               completed          77             68             69  \n",
            "853                    none          77             78             73  \n",
            "852                    none          77             62             64  \n",
            "\n",
            "[250 rows x 8 columns]\n"
          ]
        }
      ]
    }
  ]
}