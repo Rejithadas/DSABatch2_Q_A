{
  "nbformat": 4,
  "nbformat_minor": 0,
  "metadata": {
    "colab": {
      "name": "Case_study1.ipynb",
      "provenance": [],
      "collapsed_sections": []
    },
    "kernelspec": {
      "name": "python3",
      "display_name": "Python 3"
    },
    "language_info": {
      "name": "python"
    }
  },
  "cells": [
    {
      "cell_type": "code",
      "execution_count": 1,
      "metadata": {
        "id": "LiyQM_Ya5IMo"
      },
      "outputs": [],
      "source": [
        "import pandas as pd\n",
        "import numpy as np\n",
        "import matplotlib.pyplot as plt\n",
        "import seaborn as sns\n"
      ]
    },
    {
      "cell_type": "code",
      "source": [
        "#Read the dataset to the python environment\n",
        "df=pd.read_csv('/cars_data_2307f18affc85783ce1414b5585925ba.csv')\n",
        "print(df)"
      ],
      "metadata": {
        "colab": {
          "base_uri": "https://localhost:8080/"
        },
        "id": "6vfM0Pjj5e1-",
        "outputId": "04cb5d98-4472-4578-ddcb-a45c64357dea"
      },
      "execution_count": 2,
      "outputs": [
        {
          "output_type": "stream",
          "name": "stdout",
          "text": [
            "         Make        Model    Nickname Car Gender Buyer Gender  Buyer Age  \\\n",
            "0      Suzuki       Vitara  Philippine     Female       Female         51   \n",
            "1       Honda        S2000      Henrik       Male         Male         30   \n",
            "2         BMW           Z4      Lebbie       Male       Female         54   \n",
            "3      Toyota       Tacoma    Jefferey     Female         Male         68   \n",
            "4        Ford      Festiva     Glendon     Female         Male         70   \n",
            "...       ...          ...         ...        ...          ...        ...   \n",
            "9995    Mazda      Tribute      Cooper       Male         Male         44   \n",
            "9996      GMC  Sierra 2500         Dud       Male         Male         40   \n",
            "9997  Mercury      Mariner     Chariot       Male         Male         37   \n",
            "9998   Daewoo      Leganza       Dynah     Female       Female         21   \n",
            "9999   Toyota      Sequoia    Zedekiah     Female         Male         21   \n",
            "\n",
            "           Buzzword      Country             City  Dealer Latitude  \\\n",
            "0     User-friendly      Belgium        Antwerpen        51.247239   \n",
            "1         analyzing        China            Jinhu        33.025433   \n",
            "2          software        China             Gemo        30.916207   \n",
            "3        monitoring     Portugal  Queluz de Baixo        38.745168   \n",
            "4          Sharable       Latvia         Jaunpils        56.729980   \n",
            "...             ...          ...              ...              ...   \n",
            "9995       hardware     Pakistan  Chishtiān Mandi        29.919386   \n",
            "9996       Enhanced   Costa Rica          Ángeles        10.075000   \n",
            "9997     monitoring       Poland        Dąbrowice        52.311923   \n",
            "9998       cohesive  Philippines         Villasis        15.901640   \n",
            "9999      analyzing  Philippines            Basud        14.048167   \n",
            "\n",
            "      Dealer Longitude    Color  New Car Purchase Date  Sale Price  Discount  \\\n",
            "0             4.440346   Yellow    False    19/07/2009    54806.14    0.2467   \n",
            "1           119.020584  Crimson    False    26/10/2015    51826.30    0.3147   \n",
            "2           121.677640    Khaki    False    28/03/2010    82929.14    0.5414   \n",
            "3            -9.267087     Puce    False    07/05/2008    56928.66    0.0850   \n",
            "4            23.016588   Yellow    False    01/06/2008    77201.26    0.1642   \n",
            "...                ...      ...      ...           ...         ...       ...   \n",
            "9995         73.074787     Pink    False    05/01/2020    58580.65    0.1611   \n",
            "9996        -84.241523     Puce    False    28/12/2005    75229.74    0.2691   \n",
            "9997         19.084965     Blue    False    08/03/2013    34755.44    0.2493   \n",
            "9998        120.587828     Teal     True    21/02/2008    98725.42    0.4654   \n",
            "9999        122.955697     Pink    False    16/12/2017    96769.78    0.5446   \n",
            "\n",
            "      Resell Price  5-yr Depreciation  Top Speed  0-60 Time  \n",
            "0         33858.32               0.13      200.9       11.5  \n",
            "1          2989.28               0.02      158.5        8.8  \n",
            "2         35049.16               0.24      149.5       14.4  \n",
            "3          8236.15               0.20      153.3       11.5  \n",
            "4         32765.76               0.18      122.0       14.9  \n",
            "...            ...                ...        ...        ...  \n",
            "9995      42640.82               0.14      245.8        8.0  \n",
            "9996      21115.58               0.11      147.4       12.3  \n",
            "9997       2731.25               0.12      198.1       11.8  \n",
            "9998      18718.58               0.04      206.7       12.2  \n",
            "9999       4545.95               0.07      242.1        3.2  \n",
            "\n",
            "[10000 rows x 20 columns]\n"
          ]
        }
      ]
    },
    {
      "cell_type": "code",
      "source": [
        "#check for null values present in the dataset\n",
        "df.isnull().values.any()"
      ],
      "metadata": {
        "colab": {
          "base_uri": "https://localhost:8080/"
        },
        "id": "u7q-c3Up5q9K",
        "outputId": "b1eea1d0-678c-4681-8ac1-e94caf63d944"
      },
      "execution_count": 3,
      "outputs": [
        {
          "output_type": "execute_result",
          "data": {
            "text/plain": [
              "False"
            ]
          },
          "metadata": {},
          "execution_count": 3
        }
      ]
    },
    {
      "cell_type": "code",
      "source": [
        "#plot a bar graph of male vs female buyers participated in the sale\n",
        "sns.barplot(x = 'Buyer Gender',y = 'Sale Price',data = df, palette=\"Blues_d\")\n",
        "plt.show()"
      ],
      "metadata": {
        "colab": {
          "base_uri": "https://localhost:8080/",
          "height": 279
        },
        "id": "xgvrvimW5zPj",
        "outputId": "8ac309ab-c6d7-4186-a71b-a9a1054c8428"
      },
      "execution_count": 4,
      "outputs": [
        {
          "output_type": "display_data",
          "data": {
            "text/plain": [
              "<Figure size 432x288 with 1 Axes>"
            ],
            "image/png": "[encoded data removed]"
          },
          "metadata": {
            "needs_background": "light"
          }
        }
      ]
    },
    {
      "cell_type": "code",
      "source": [
        "#Find the top 5 cars based on their sales price\n",
        "df[['Make','Model','Sale Price']].nlargest(5, ['Sale Price'])"
      ],
      "metadata": {
        "colab": {
          "base_uri": "https://localhost:8080/",
          "height": 206
        },
        "id": "FlPf7ME354j6",
        "outputId": "922f02ce-0bd8-435e-8ab1-93c8b199e31f"
      },
      "execution_count": 5,
      "outputs": [
        {
          "output_type": "execute_result",
          "data": {
            "text/plain": [
              "            Make      Model  Sale Price\n",
              "5984  Volkswagen  Jetta III    99997.65\n",
              "1270        Audi         A6    99991.91\n",
              "3460       Lexus         LX    99983.38\n",
              "9032       Mazda       MX-6    99978.17\n",
              "302        Lexus         ES    99973.44"
            ],
            "text/html": [
              "\n",
              "  <div id=\"df-5f710ad4-8155-4b82-9562-c1a9192825a8\">\n",
              "    <div class=\"colab-df-container\">\n",
              "      <div>\n",
              "<style scoped>\n",
              "    .dataframe tbody tr th:only-of-type {\n",
              "        vertical-align: middle;\n",
              "    }\n",
              "\n",
              "    .dataframe tbody tr th {\n",
              "        vertical-align: top;\n",
              "    }\n",
              "\n",
              "    .dataframe thead th {\n",
              "        text-align: right;\n",
              "    }\n",
              "</style>\n",
              "<table border=\"1\" class=\"dataframe\">\n",
              "  <thead>\n",
              "    <tr style=\"text-align: right;\">\n",
              "      <th></th>\n",
              "      <th>Make</th>\n",
              "      <th>Model</th>\n",
              "      <th>Sale Price</th>\n",
              "    </tr>\n",
              "  </thead>\n",
              "  <tbody>\n",
              "    <tr>\n",
              "      <th>5984</th>\n",
              "      <td>Volkswagen</td>\n",
              "      <td>Jetta III</td>\n",
              "      <td>99997.65</td>\n",
              "    </tr>\n",
              "    <tr>\n",
              "      <th>1270</th>\n",
              "      <td>Audi</td>\n",
              "      <td>A6</td>\n",
              "      <td>99991.91</td>\n",
              "    </tr>\n",
              "    <tr>\n",
              "      <th>3460</th>\n",
              "      <td>Lexus</td>\n",
              "      <td>LX</td>\n",
              "      <td>99983.38</td>\n",
              "    </tr>\n",
              "    <tr>\n",
              "      <th>9032</th>\n",
              "      <td>Mazda</td>\n",
              "      <td>MX-6</td>\n",
              "      <td>99978.17</td>\n",
              "    </tr>\n",
              "    <tr>\n",
              "      <th>302</th>\n",
              "      <td>Lexus</td>\n",
              "      <td>ES</td>\n",
              "      <td>99973.44</td>\n",
              "    </tr>\n",
              "  </tbody>\n",
              "</table>\n",
              "</div>\n",
              "      <button class=\"colab-df-convert\" onclick=\"convertToInteractive('df-5f710ad4-8155-4b82-9562-c1a9192825a8')\"\n",
              "              title=\"Convert this dataframe to an interactive table.\"\n",
              "              style=\"display:none;\">\n",
              "        \n",
              "  <svg xmlns=\"http://www.w3.org/2000/svg\" height=\"24px\"viewBox=\"0 0 24 24\"\n",
              "       width=\"24px\">\n",
              "    <path d=\"M0 0h24v24H0V0z\" fill=\"none\"/>\n",
              "    <path d=\"M18.56 5.44l.94 2.06.94-2.06 2.06-.94-2.06-.94-.94-2.06-.94 2.06-2.06.94zm-11 1L8.5 8.5l.94-2.06 2.06-.94-2.06-.94L8.5 2.5l-.94 2.06-2.06.94zm10 10l.94 2.06.94-2.06 2.06-.94-2.06-.94-.94-2.06-.94 2.06-2.06.94z\"/><path d=\"M17.41 7.96l-1.37-1.37c-.4-.4-.92-.59-1.43-.59-.52 0-1.04.2-1.43.59L10.3 9.45l-7.72 7.72c-.78.78-.78 2.05 0 2.83L4 21.41c.39.39.9.59 1.41.59.51 0 1.02-.2 1.41-.59l7.78-7.78 2.81-2.81c.8-.78.8-2.07 0-2.86zM5.41 20L4 18.59l7.72-7.72 1.47 1.35L5.41 20z\"/>\n",
              "  </svg>\n",
              "      </button>\n",
              "      \n",
              "  <style>\n",
              "    .colab-df-container {\n",
              "      display:flex;\n",
              "      flex-wrap:wrap;\n",
              "      gap: 12px;\n",
              "    }\n",
              "\n",
              "    .colab-df-convert {\n",
              "      background-color: #E8F0FE;\n",
              "      border: none;\n",
              "      border-radius: 50%;\n",
              "      cursor: pointer;\n",
              "      display: none;\n",
              "      fill: #1967D2;\n",
              "      height: 32px;\n",
              "      padding: 0 0 0 0;\n",
              "      width: 32px;\n",
              "    }\n",
              "\n",
              "    .colab-df-convert:hover {\n",
              "      background-color: #E2EBFA;\n",
              "      box-shadow: 0px 1px 2px rgba(60, 64, 67, 0.3), 0px 1px 3px 1px rgba(60, 64, 67, 0.15);\n",
              "      fill: #174EA6;\n",
              "    }\n",
              "\n",
              "    [theme=dark] .colab-df-convert {\n",
              "      background-color: #3B4455;\n",
              "      fill: #D2E3FC;\n",
              "    }\n",
              "\n",
              "    [theme=dark] .colab-df-convert:hover {\n",
              "      background-color: #434B5C;\n",
              "      box-shadow: 0px 1px 3px 1px rgba(0, 0, 0, 0.15);\n",
              "      filter: drop-shadow(0px 1px 2px rgba(0, 0, 0, 0.3));\n",
              "      fill: #FFFFFF;\n",
              "    }\n",
              "  </style>\n",
              "\n",
              "      <script>\n",
              "        const buttonEl =\n",
              "          document.querySelector('#df-5f710ad4-8155-4b82-9562-c1a9192825a8 button.colab-df-convert');\n",
              "        buttonEl.style.display =\n",
              "          google.colab.kernel.accessAllowed ? 'block' : 'none';\n",
              "\n",
              "        async function convertToInteractive(key) {\n",
              "          const element = document.querySelector('#df-5f710ad4-8155-4b82-9562-c1a9192825a8');\n",
              "          const dataTable =\n",
              "            await google.colab.kernel.invokeFunction('convertToInteractive',\n",
              "                                                     [key], {});\n",
              "          if (!dataTable) return;\n",
              "\n",
              "          const docLinkHtml = 'Like what you see? Visit the ' +\n",
              "            '<a target=\"_blank\" href=https://colab.research.google.com/notebooks/data_table.ipynb>data table notebook</a>'\n",
              "            + ' to learn more about interactive tables.';\n",
              "          element.innerHTML = '';\n",
              "          dataTable['output_type'] = 'display_data';\n",
              "          await google.colab.output.renderOutput(dataTable, element);\n",
              "          const docLink = document.createElement('div');\n",
              "          docLink.innerHTML = docLinkHtml;\n",
              "          element.appendChild(docLink);\n",
              "        }\n",
              "      </script>\n",
              "    </div>\n",
              "  </div>\n",
              "  "
            ]
          },
          "metadata": {},
          "execution_count": 5
        }
      ]
    },
    {
      "cell_type": "code",
      "source": [
        "#Find the least 5 cars based on their resell price\n",
        "df[['Make','Model','Resell Price']].nsmallest(5, ['Resell Price'])"
      ],
      "metadata": {
        "colab": {
          "base_uri": "https://localhost:8080/",
          "height": 206
        },
        "id": "o5jmY2Sk5_9A",
        "outputId": "707cb7b0-f00a-4980-853e-236f0c611a57"
      },
      "execution_count": 6,
      "outputs": [
        {
          "output_type": "execute_result",
          "data": {
            "text/plain": [
              "            Make        Model  Resell Price\n",
              "2446   Chevrolet         1500       2000.84\n",
              "4933         GMC  Savana 1500       2005.44\n",
              "566       Jaguar           XF       2014.09\n",
              "2538  Mitsubishi       3000GT       2017.24\n",
              "5869    Infiniti          G37       2017.83"
            ],
            "text/html": [
              "\n",
              "  <div id=\"df-bb49f42d-e14b-4a95-8a96-731a4b022a40\">\n",
              "    <div class=\"colab-df-container\">\n",
              "      <div>\n",
              "<style scoped>\n",
              "    .dataframe tbody tr th:only-of-type {\n",
              "        vertical-align: middle;\n",
              "    }\n",
              "\n",
              "    .dataframe tbody tr th {\n",
              "        vertical-align: top;\n",
              "    }\n",
              "\n",
              "    .dataframe thead th {\n",
              "        text-align: right;\n",
              "    }\n",
              "</style>\n",
              "<table border=\"1\" class=\"dataframe\">\n",
              "  <thead>\n",
              "    <tr style=\"text-align: right;\">\n",
              "      <th></th>\n",
              "      <th>Make</th>\n",
              "      <th>Model</th>\n",
              "      <th>Resell Price</th>\n",
              "    </tr>\n",
              "  </thead>\n",
              "  <tbody>\n",
              "    <tr>\n",
              "      <th>2446</th>\n",
              "      <td>Chevrolet</td>\n",
              "      <td>1500</td>\n",
              "      <td>2000.84</td>\n",
              "    </tr>\n",
              "    <tr>\n",
              "      <th>4933</th>\n",
              "      <td>GMC</td>\n",
              "      <td>Savana 1500</td>\n",
              "      <td>2005.44</td>\n",
              "    </tr>\n",
              "    <tr>\n",
              "      <th>566</th>\n",
              "      <td>Jaguar</td>\n",
              "      <td>XF</td>\n",
              "      <td>2014.09</td>\n",
              "    </tr>\n",
              "    <tr>\n",
              "      <th>2538</th>\n",
              "      <td>Mitsubishi</td>\n",
              "      <td>3000GT</td>\n",
              "      <td>2017.24</td>\n",
              "    </tr>\n",
              "    <tr>\n",
              "      <th>5869</th>\n",
              "      <td>Infiniti</td>\n",
              "      <td>G37</td>\n",
              "      <td>2017.83</td>\n",
              "    </tr>\n",
              "  </tbody>\n",
              "</table>\n",
              "</div>\n",
              "      <button class=\"colab-df-convert\" onclick=\"convertToInteractive('df-bb49f42d-e14b-4a95-8a96-731a4b022a40')\"\n",
              "              title=\"Convert this dataframe to an interactive table.\"\n",
              "              style=\"display:none;\">\n",
              "        \n",
              "  <svg xmlns=\"http://www.w3.org/2000/svg\" height=\"24px\"viewBox=\"0 0 24 24\"\n",
              "       width=\"24px\">\n",
              "    <path d=\"M0 0h24v24H0V0z\" fill=\"none\"/>\n",
              "    <path d=\"M18.56 5.44l.94 2.06.94-2.06 2.06-.94-2.06-.94-.94-2.06-.94 2.06-2.06.94zm-11 1L8.5 8.5l.94-2.06 2.06-.94-2.06-.94L8.5 2.5l-.94 2.06-2.06.94zm10 10l.94 2.06.94-2.06 2.06-.94-2.06-.94-.94-2.06-.94 2.06-2.06.94z\"/><path d=\"M17.41 7.96l-1.37-1.37c-.4-.4-.92-.59-1.43-.59-.52 0-1.04.2-1.43.59L10.3 9.45l-7.72 7.72c-.78.78-.78 2.05 0 2.83L4 21.41c.39.39.9.59 1.41.59.51 0 1.02-.2 1.41-.59l7.78-7.78 2.81-2.81c.8-.78.8-2.07 0-2.86zM5.41 20L4 18.59l7.72-7.72 1.47 1.35L5.41 20z\"/>\n",
              "  </svg>\n",
              "      </button>\n",
              "      \n",
              "  <style>\n",
              "    .colab-df-container {\n",
              "      display:flex;\n",
              "      flex-wrap:wrap;\n",
              "      gap: 12px;\n",
              "    }\n",
              "\n",
              "    .colab-df-convert {\n",
              "      background-color: #E8F0FE;\n",
              "      border: none;\n",
              "      border-radius: 50%;\n",
              "      cursor: pointer;\n",
              "      display: none;\n",
              "      fill: #1967D2;\n",
              "      height: 32px;\n",
              "      padding: 0 0 0 0;\n",
              "      width: 32px;\n",
              "    }\n",
              "\n",
              "    .colab-df-convert:hover {\n",
              "      background-color: #E2EBFA;\n",
              "      box-shadow: 0px 1px 2px rgba(60, 64, 67, 0.3), 0px 1px 3px 1px rgba(60, 64, 67, 0.15);\n",
              "      fill: #174EA6;\n",
              "    }\n",
              "\n",
              "    [theme=dark] .colab-df-convert {\n",
              "      background-color: #3B4455;\n",
              "      fill: #D2E3FC;\n",
              "    }\n",
              "\n",
              "    [theme=dark] .colab-df-convert:hover {\n",
              "      background-color: #434B5C;\n",
              "      box-shadow: 0px 1px 3px 1px rgba(0, 0, 0, 0.15);\n",
              "      filter: drop-shadow(0px 1px 2px rgba(0, 0, 0, 0.3));\n",
              "      fill: #FFFFFF;\n",
              "    }\n",
              "  </style>\n",
              "\n",
              "      <script>\n",
              "        const buttonEl =\n",
              "          document.querySelector('#df-bb49f42d-e14b-4a95-8a96-731a4b022a40 button.colab-df-convert');\n",
              "        buttonEl.style.display =\n",
              "          google.colab.kernel.accessAllowed ? 'block' : 'none';\n",
              "\n",
              "        async function convertToInteractive(key) {\n",
              "          const element = document.querySelector('#df-bb49f42d-e14b-4a95-8a96-731a4b022a40');\n",
              "          const dataTable =\n",
              "            await google.colab.kernel.invokeFunction('convertToInteractive',\n",
              "                                                     [key], {});\n",
              "          if (!dataTable) return;\n",
              "\n",
              "          const docLinkHtml = 'Like what you see? Visit the ' +\n",
              "            '<a target=\"_blank\" href=https://colab.research.google.com/notebooks/data_table.ipynb>data table notebook</a>'\n",
              "            + ' to learn more about interactive tables.';\n",
              "          element.innerHTML = '';\n",
              "          dataTable['output_type'] = 'display_data';\n",
              "          await google.colab.output.renderOutput(dataTable, element);\n",
              "          const docLink = document.createElement('div');\n",
              "          docLink.innerHTML = docLinkHtml;\n",
              "          element.appendChild(docLink);\n",
              "        }\n",
              "      </script>\n",
              "    </div>\n",
              "  </div>\n",
              "  "
            ]
          },
          "metadata": {},
          "execution_count": 6
        }
      ]
    }
  ]
}